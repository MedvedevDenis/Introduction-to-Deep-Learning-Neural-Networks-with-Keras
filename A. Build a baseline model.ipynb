{
 "cells": [
  {
   "cell_type": "markdown",
   "metadata": {},
   "source": [
    "# A. Build a baseline model"
   ]
  },
  {
   "cell_type": "code",
   "execution_count": 1,
   "metadata": {},
   "outputs": [],
   "source": [
    "import pandas as pd\n",
    "from tensorflow.keras.layers import Dense\n",
    "from tensorflow.keras.models import Sequential\n",
    "from sklearn.model_selection import train_test_split\n",
    "from sklearn.metrics import mean_squared_error\n",
    "import numpy as np\n"
   ]
  },
  {
   "cell_type": "code",
   "execution_count": 2,
   "metadata": {},
   "outputs": [],
   "source": [
    "df = pd.read_csv(\"concrete_data.csv\")\n"
   ]
  },
  {
   "cell_type": "code",
   "execution_count": 3,
   "metadata": {},
   "outputs": [
    {
     "data": {
      "text/html": [
       "<div>\n",
       "<style scoped>\n",
       "    .dataframe tbody tr th:only-of-type {\n",
       "        vertical-align: middle;\n",
       "    }\n",
       "\n",
       "    .dataframe tbody tr th {\n",
       "        vertical-align: top;\n",
       "    }\n",
       "\n",
       "    .dataframe thead th {\n",
       "        text-align: right;\n",
       "    }\n",
       "</style>\n",
       "<table border=\"1\" class=\"dataframe\">\n",
       "  <thead>\n",
       "    <tr style=\"text-align: right;\">\n",
       "      <th></th>\n",
       "      <th>Cement</th>\n",
       "      <th>Blast Furnace Slag</th>\n",
       "      <th>Fly Ash</th>\n",
       "      <th>Water</th>\n",
       "      <th>Superplasticizer</th>\n",
       "      <th>Coarse Aggregate</th>\n",
       "      <th>Fine Aggregate</th>\n",
       "      <th>Age</th>\n",
       "      <th>Strength</th>\n",
       "    </tr>\n",
       "  </thead>\n",
       "  <tbody>\n",
       "    <tr>\n",
       "      <th>0</th>\n",
       "      <td>540.0</td>\n",
       "      <td>0.0</td>\n",
       "      <td>0.0</td>\n",
       "      <td>162.0</td>\n",
       "      <td>2.5</td>\n",
       "      <td>1040.0</td>\n",
       "      <td>676.0</td>\n",
       "      <td>28</td>\n",
       "      <td>79.99</td>\n",
       "    </tr>\n",
       "    <tr>\n",
       "      <th>1</th>\n",
       "      <td>540.0</td>\n",
       "      <td>0.0</td>\n",
       "      <td>0.0</td>\n",
       "      <td>162.0</td>\n",
       "      <td>2.5</td>\n",
       "      <td>1055.0</td>\n",
       "      <td>676.0</td>\n",
       "      <td>28</td>\n",
       "      <td>61.89</td>\n",
       "    </tr>\n",
       "    <tr>\n",
       "      <th>2</th>\n",
       "      <td>332.5</td>\n",
       "      <td>142.5</td>\n",
       "      <td>0.0</td>\n",
       "      <td>228.0</td>\n",
       "      <td>0.0</td>\n",
       "      <td>932.0</td>\n",
       "      <td>594.0</td>\n",
       "      <td>270</td>\n",
       "      <td>40.27</td>\n",
       "    </tr>\n",
       "    <tr>\n",
       "      <th>3</th>\n",
       "      <td>332.5</td>\n",
       "      <td>142.5</td>\n",
       "      <td>0.0</td>\n",
       "      <td>228.0</td>\n",
       "      <td>0.0</td>\n",
       "      <td>932.0</td>\n",
       "      <td>594.0</td>\n",
       "      <td>365</td>\n",
       "      <td>41.05</td>\n",
       "    </tr>\n",
       "    <tr>\n",
       "      <th>4</th>\n",
       "      <td>198.6</td>\n",
       "      <td>132.4</td>\n",
       "      <td>0.0</td>\n",
       "      <td>192.0</td>\n",
       "      <td>0.0</td>\n",
       "      <td>978.4</td>\n",
       "      <td>825.5</td>\n",
       "      <td>360</td>\n",
       "      <td>44.30</td>\n",
       "    </tr>\n",
       "  </tbody>\n",
       "</table>\n",
       "</div>"
      ],
      "text/plain": [
       "   Cement  Blast Furnace Slag  Fly Ash  Water  Superplasticizer  \\\n",
       "0   540.0                 0.0      0.0  162.0               2.5   \n",
       "1   540.0                 0.0      0.0  162.0               2.5   \n",
       "2   332.5               142.5      0.0  228.0               0.0   \n",
       "3   332.5               142.5      0.0  228.0               0.0   \n",
       "4   198.6               132.4      0.0  192.0               0.0   \n",
       "\n",
       "   Coarse Aggregate  Fine Aggregate  Age  Strength  \n",
       "0            1040.0           676.0   28     79.99  \n",
       "1            1055.0           676.0   28     61.89  \n",
       "2             932.0           594.0  270     40.27  \n",
       "3             932.0           594.0  365     41.05  \n",
       "4             978.4           825.5  360     44.30  "
      ]
     },
     "execution_count": 3,
     "metadata": {},
     "output_type": "execute_result"
    }
   ],
   "source": [
    "df.head()\n"
   ]
  },
  {
   "cell_type": "code",
   "execution_count": 4,
   "metadata": {},
   "outputs": [],
   "source": [
    "predictors = [\n",
    "    \"Cement\",\n",
    "    \"Blast Furnace Slag\",\n",
    "    \"Fly Ash\",\n",
    "    \"Water\",\n",
    "    \"Superplasticizer\",\n",
    "    \"Coarse Aggregate\",\n",
    "    \"Fine Aggregate\",\n",
    "]\n",
    "target = \"Strength\"\n"
   ]
  },
  {
   "cell_type": "markdown",
   "metadata": {},
   "source": [
    "Use the Keras library to build a neural network with the following:\n",
    "\n",
    "- One hidden layer of 10 nodes, and a ReLU activation function\n",
    "\n",
    "- Use the adam optimizer and the mean squared error  as the loss function."
   ]
  },
  {
   "cell_type": "code",
   "execution_count": 5,
   "metadata": {},
   "outputs": [],
   "source": [
    "def get_model(input_shape: int) -> Sequential:\n",
    "    model = Sequential()\n",
    "    model.add(Dense(units=10, input_shape=(input_shape,), activation=\"relu\"))\n",
    "    model.add(Dense(1))\n",
    "\n",
    "    model.compile(loss=\"mean_squared_error\", optimizer=\"adam\")\n",
    "\n",
    "    return model\n"
   ]
  },
  {
   "cell_type": "code",
   "execution_count": 6,
   "metadata": {},
   "outputs": [],
   "source": [
    "X = df[predictors].values\n",
    "y = df[target].values\n"
   ]
  },
  {
   "cell_type": "markdown",
   "metadata": {},
   "source": [
    "Randomly split the data into a training and test sets by holding 30% of the data for testing. You can use the train_test_splithelper function from Scikit-learn."
   ]
  },
  {
   "cell_type": "code",
   "execution_count": 7,
   "metadata": {},
   "outputs": [],
   "source": [
    "X_train, X_test, y_train, y_test = train_test_split(X, y, test_size=0.3, random_state=1)\n"
   ]
  },
  {
   "cell_type": "markdown",
   "metadata": {},
   "source": [
    "Train the model on the training data using 50 epochs."
   ]
  },
  {
   "cell_type": "code",
   "execution_count": 8,
   "metadata": {},
   "outputs": [
    {
     "name": "stdout",
     "output_type": "stream",
     "text": [
      "Epoch 1/50\n",
      "23/23 [==============================] - 1s 2ms/step - loss: 9899.2529\n",
      "Epoch 2/50\n",
      "23/23 [==============================] - 0s 2ms/step - loss: 3056.5781\n",
      "Epoch 3/50\n",
      "23/23 [==============================] - 0s 2ms/step - loss: 2164.1711\n",
      "Epoch 4/50\n",
      "23/23 [==============================] - 0s 2ms/step - loss: 1750.2249\n",
      "Epoch 5/50\n",
      "23/23 [==============================] - 0s 3ms/step - loss: 1432.7272\n",
      "Epoch 6/50\n",
      "23/23 [==============================] - 0s 2ms/step - loss: 1175.1895\n",
      "Epoch 7/50\n",
      "23/23 [==============================] - 0s 2ms/step - loss: 978.8659\n",
      "Epoch 8/50\n",
      "23/23 [==============================] - 0s 2ms/step - loss: 830.0441\n",
      "Epoch 9/50\n",
      "23/23 [==============================] - 0s 2ms/step - loss: 708.1620\n",
      "Epoch 10/50\n",
      "23/23 [==============================] - 0s 2ms/step - loss: 607.8488\n",
      "Epoch 11/50\n",
      "23/23 [==============================] - 0s 2ms/step - loss: 528.0812\n",
      "Epoch 12/50\n",
      "23/23 [==============================] - 0s 2ms/step - loss: 465.1449\n",
      "Epoch 13/50\n",
      "23/23 [==============================] - 0s 2ms/step - loss: 405.7634\n",
      "Epoch 14/50\n",
      "23/23 [==============================] - 0s 2ms/step - loss: 359.0005\n",
      "Epoch 15/50\n",
      "23/23 [==============================] - 0s 2ms/step - loss: 320.6668\n",
      "Epoch 16/50\n",
      "23/23 [==============================] - 0s 2ms/step - loss: 289.7714\n",
      "Epoch 17/50\n",
      "23/23 [==============================] - 0s 2ms/step - loss: 265.4262\n",
      "Epoch 18/50\n",
      "23/23 [==============================] - 0s 2ms/step - loss: 246.5437\n",
      "Epoch 19/50\n",
      "23/23 [==============================] - 0s 2ms/step - loss: 231.3574\n",
      "Epoch 20/50\n",
      "23/23 [==============================] - 0s 2ms/step - loss: 220.0339\n",
      "Epoch 21/50\n",
      "23/23 [==============================] - 0s 2ms/step - loss: 211.9215\n",
      "Epoch 22/50\n",
      "23/23 [==============================] - 0s 2ms/step - loss: 201.0295\n",
      "Epoch 23/50\n",
      "23/23 [==============================] - 0s 2ms/step - loss: 193.6244\n",
      "Epoch 24/50\n",
      "23/23 [==============================] - 0s 2ms/step - loss: 189.7417\n",
      "Epoch 25/50\n",
      "23/23 [==============================] - 0s 2ms/step - loss: 185.9436\n",
      "Epoch 26/50\n",
      "23/23 [==============================] - 0s 2ms/step - loss: 185.2529\n",
      "Epoch 27/50\n",
      "23/23 [==============================] - 0s 2ms/step - loss: 179.5499\n",
      "Epoch 28/50\n",
      "23/23 [==============================] - 0s 2ms/step - loss: 178.0189\n",
      "Epoch 29/50\n",
      "23/23 [==============================] - 0s 2ms/step - loss: 176.6851\n",
      "Epoch 30/50\n",
      "23/23 [==============================] - 0s 2ms/step - loss: 175.7722\n",
      "Epoch 31/50\n",
      "23/23 [==============================] - 0s 2ms/step - loss: 171.8228\n",
      "Epoch 32/50\n",
      "23/23 [==============================] - 0s 2ms/step - loss: 170.1940\n",
      "Epoch 33/50\n",
      "23/23 [==============================] - 0s 2ms/step - loss: 169.6770\n",
      "Epoch 34/50\n",
      "23/23 [==============================] - 0s 2ms/step - loss: 167.6955\n",
      "Epoch 35/50\n",
      "23/23 [==============================] - 0s 2ms/step - loss: 167.9368\n",
      "Epoch 36/50\n",
      "23/23 [==============================] - 0s 2ms/step - loss: 165.0466\n",
      "Epoch 37/50\n",
      "23/23 [==============================] - 0s 1ms/step - loss: 168.2953\n",
      "Epoch 38/50\n",
      "23/23 [==============================] - 0s 2ms/step - loss: 169.8740\n",
      "Epoch 39/50\n",
      "23/23 [==============================] - 0s 2ms/step - loss: 163.9970\n",
      "Epoch 40/50\n",
      "23/23 [==============================] - 0s 2ms/step - loss: 163.8179\n",
      "Epoch 41/50\n",
      "23/23 [==============================] - 0s 2ms/step - loss: 163.1143\n",
      "Epoch 42/50\n",
      "23/23 [==============================] - 0s 2ms/step - loss: 162.3208\n",
      "Epoch 43/50\n",
      "23/23 [==============================] - 0s 2ms/step - loss: 160.4107\n",
      "Epoch 44/50\n",
      "23/23 [==============================] - 0s 2ms/step - loss: 160.0334\n",
      "Epoch 45/50\n",
      "23/23 [==============================] - 0s 2ms/step - loss: 161.3886\n",
      "Epoch 46/50\n",
      "23/23 [==============================] - 0s 2ms/step - loss: 162.4039\n",
      "Epoch 47/50\n",
      "23/23 [==============================] - 0s 2ms/step - loss: 159.7719\n",
      "Epoch 48/50\n",
      "23/23 [==============================] - 0s 2ms/step - loss: 161.8014\n",
      "Epoch 49/50\n",
      "23/23 [==============================] - 0s 2ms/step - loss: 160.5840\n",
      "Epoch 50/50\n",
      "23/23 [==============================] - 0s 2ms/step - loss: 159.0331\n"
     ]
    },
    {
     "data": {
      "text/plain": [
       "<keras.callbacks.History at 0x259aec61400>"
      ]
     },
     "execution_count": 8,
     "metadata": {},
     "output_type": "execute_result"
    }
   ],
   "source": [
    "model = get_model(input_shape=X.shape[1])\n",
    "model.fit(X_train, y_train, epochs=50)\n"
   ]
  },
  {
   "cell_type": "markdown",
   "metadata": {},
   "source": [
    "Evaluate the model on the test data and compute the mean squared error between the predicted concrete strength and the actual concrete strength. "
   ]
  },
  {
   "cell_type": "code",
   "execution_count": 9,
   "metadata": {},
   "outputs": [
    {
     "data": {
      "text/plain": [
       "177.9842071533203"
      ]
     },
     "execution_count": 9,
     "metadata": {},
     "output_type": "execute_result"
    }
   ],
   "source": [
    "model.evaluate(X_test, y_test, verbose=0)\n"
   ]
  },
  {
   "cell_type": "code",
   "execution_count": 10,
   "metadata": {},
   "outputs": [
    {
     "name": "stdout",
     "output_type": "stream",
     "text": [
      "Mean squared error on test data: 177.98\n"
     ]
    }
   ],
   "source": [
    "y_predicted = model.predict(X_test)\n",
    "print(\n",
    "    \"Mean squared error on test data:\",\n",
    "    np.round(mean_squared_error(y_test, y_predicted), 2),\n",
    ")\n"
   ]
  },
  {
   "cell_type": "markdown",
   "metadata": {},
   "source": [
    "Repeat steps 1 - 3, 50 times, i.e., create a list of 50 mean squared errors."
   ]
  },
  {
   "cell_type": "code",
   "execution_count": 11,
   "metadata": {},
   "outputs": [],
   "source": [
    "mean_squared_errors = np.zeros(50)\n",
    "for i in range(50):\n",
    "    X_train, X_test, y_train, y_test = train_test_split(\n",
    "        X, y, test_size=0.3, random_state=i\n",
    "    )\n",
    "    model = get_model(input_shape=X.shape[1])\n",
    "    model.fit(X_train, y_train, epochs=50, verbose=0)\n",
    "    mean_squared_errors[i] = model.evaluate(X_test, y_test, verbose=0)\n"
   ]
  },
  {
   "cell_type": "markdown",
   "metadata": {},
   "source": [
    "Report the mean and the standard deviation of the mean squared errors."
   ]
  },
  {
   "cell_type": "code",
   "execution_count": 12,
   "metadata": {},
   "outputs": [
    {
     "name": "stdout",
     "output_type": "stream",
     "text": [
      "Mean of mean squad errors: 382.68229248046873\n",
      "STD of mean squad errors: 380.6928082251833\n"
     ]
    }
   ],
   "source": [
    "print(\"Mean of mean squad errors:\", mean_squared_errors.mean())\n",
    "print(\"STD of mean squad errors:\", mean_squared_errors.std())\n"
   ]
  }
 ],
 "metadata": {
  "interpreter": {
   "hash": "6a4c4756cb815d6b3a44d92f766aca2a2139b00c75d4e301b0a6523a1f8ef7c8"
  },
  "kernelspec": {
   "display_name": "Python 3.9.7 64-bit",
   "name": "python3"
  },
  "language_info": {
   "codemirror_mode": {
    "name": "ipython",
    "version": 3
   },
   "file_extension": ".py",
   "mimetype": "text/x-python",
   "name": "python",
   "nbconvert_exporter": "python",
   "pygments_lexer": "ipython3",
   "version": "3.9.7"
  },
  "orig_nbformat": 4
 },
 "nbformat": 4,
 "nbformat_minor": 2
}
