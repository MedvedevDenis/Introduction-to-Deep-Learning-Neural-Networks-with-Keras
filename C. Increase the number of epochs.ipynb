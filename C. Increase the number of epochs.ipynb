{
 "cells": [
  {
   "cell_type": "markdown",
   "metadata": {},
   "source": [
    "# C. Increase the number of epochs"
   ]
  },
  {
   "cell_type": "code",
   "execution_count": 1,
   "metadata": {},
   "outputs": [],
   "source": [
    "import pandas as pd\n",
    "from tensorflow.keras.layers import Dense\n",
    "from tensorflow.keras.models import Sequential\n",
    "from sklearn.model_selection import train_test_split\n",
    "from sklearn.metrics import mean_squared_error\n",
    "import numpy as np\n",
    "from sklearn.preprocessing import scale"
   ]
  },
  {
   "cell_type": "code",
   "execution_count": 2,
   "metadata": {},
   "outputs": [],
   "source": [
    "df = pd.read_csv(\"concrete_data.csv\")\n"
   ]
  },
  {
   "cell_type": "code",
   "execution_count": 3,
   "metadata": {},
   "outputs": [
    {
     "data": {
      "text/html": [
       "<div>\n",
       "<style scoped>\n",
       "    .dataframe tbody tr th:only-of-type {\n",
       "        vertical-align: middle;\n",
       "    }\n",
       "\n",
       "    .dataframe tbody tr th {\n",
       "        vertical-align: top;\n",
       "    }\n",
       "\n",
       "    .dataframe thead th {\n",
       "        text-align: right;\n",
       "    }\n",
       "</style>\n",
       "<table border=\"1\" class=\"dataframe\">\n",
       "  <thead>\n",
       "    <tr style=\"text-align: right;\">\n",
       "      <th></th>\n",
       "      <th>Cement</th>\n",
       "      <th>Blast Furnace Slag</th>\n",
       "      <th>Fly Ash</th>\n",
       "      <th>Water</th>\n",
       "      <th>Superplasticizer</th>\n",
       "      <th>Coarse Aggregate</th>\n",
       "      <th>Fine Aggregate</th>\n",
       "      <th>Age</th>\n",
       "      <th>Strength</th>\n",
       "    </tr>\n",
       "  </thead>\n",
       "  <tbody>\n",
       "    <tr>\n",
       "      <th>0</th>\n",
       "      <td>540.0</td>\n",
       "      <td>0.0</td>\n",
       "      <td>0.0</td>\n",
       "      <td>162.0</td>\n",
       "      <td>2.5</td>\n",
       "      <td>1040.0</td>\n",
       "      <td>676.0</td>\n",
       "      <td>28</td>\n",
       "      <td>79.99</td>\n",
       "    </tr>\n",
       "    <tr>\n",
       "      <th>1</th>\n",
       "      <td>540.0</td>\n",
       "      <td>0.0</td>\n",
       "      <td>0.0</td>\n",
       "      <td>162.0</td>\n",
       "      <td>2.5</td>\n",
       "      <td>1055.0</td>\n",
       "      <td>676.0</td>\n",
       "      <td>28</td>\n",
       "      <td>61.89</td>\n",
       "    </tr>\n",
       "    <tr>\n",
       "      <th>2</th>\n",
       "      <td>332.5</td>\n",
       "      <td>142.5</td>\n",
       "      <td>0.0</td>\n",
       "      <td>228.0</td>\n",
       "      <td>0.0</td>\n",
       "      <td>932.0</td>\n",
       "      <td>594.0</td>\n",
       "      <td>270</td>\n",
       "      <td>40.27</td>\n",
       "    </tr>\n",
       "    <tr>\n",
       "      <th>3</th>\n",
       "      <td>332.5</td>\n",
       "      <td>142.5</td>\n",
       "      <td>0.0</td>\n",
       "      <td>228.0</td>\n",
       "      <td>0.0</td>\n",
       "      <td>932.0</td>\n",
       "      <td>594.0</td>\n",
       "      <td>365</td>\n",
       "      <td>41.05</td>\n",
       "    </tr>\n",
       "    <tr>\n",
       "      <th>4</th>\n",
       "      <td>198.6</td>\n",
       "      <td>132.4</td>\n",
       "      <td>0.0</td>\n",
       "      <td>192.0</td>\n",
       "      <td>0.0</td>\n",
       "      <td>978.4</td>\n",
       "      <td>825.5</td>\n",
       "      <td>360</td>\n",
       "      <td>44.30</td>\n",
       "    </tr>\n",
       "  </tbody>\n",
       "</table>\n",
       "</div>"
      ],
      "text/plain": [
       "   Cement  Blast Furnace Slag  Fly Ash  Water  Superplasticizer  \\\n",
       "0   540.0                 0.0      0.0  162.0               2.5   \n",
       "1   540.0                 0.0      0.0  162.0               2.5   \n",
       "2   332.5               142.5      0.0  228.0               0.0   \n",
       "3   332.5               142.5      0.0  228.0               0.0   \n",
       "4   198.6               132.4      0.0  192.0               0.0   \n",
       "\n",
       "   Coarse Aggregate  Fine Aggregate  Age  Strength  \n",
       "0            1040.0           676.0   28     79.99  \n",
       "1            1055.0           676.0   28     61.89  \n",
       "2             932.0           594.0  270     40.27  \n",
       "3             932.0           594.0  365     41.05  \n",
       "4             978.4           825.5  360     44.30  "
      ]
     },
     "execution_count": 3,
     "metadata": {},
     "output_type": "execute_result"
    }
   ],
   "source": [
    "df.head()\n"
   ]
  },
  {
   "cell_type": "code",
   "execution_count": 4,
   "metadata": {},
   "outputs": [],
   "source": [
    "predictors = [\n",
    "    \"Cement\",\n",
    "    \"Blast Furnace Slag\",\n",
    "    \"Fly Ash\",\n",
    "    \"Water\",\n",
    "    \"Superplasticizer\",\n",
    "    \"Coarse Aggregate\",\n",
    "    \"Fine Aggregate\",\n",
    "]\n",
    "target = \"Strength\"\n"
   ]
  },
  {
   "cell_type": "markdown",
   "metadata": {},
   "source": [
    "Use the Keras library to build a neural network with the following:\n",
    "\n",
    "- One hidden layer of 10 nodes, and a ReLU activation function\n",
    "\n",
    "- Use the adam optimizer and the mean squared error  as the loss function."
   ]
  },
  {
   "cell_type": "code",
   "execution_count": 5,
   "metadata": {},
   "outputs": [],
   "source": [
    "def get_model(input_shape: int) -> Sequential:\n",
    "    model = Sequential()\n",
    "    model.add(Dense(units=10, input_shape=(input_shape,), activation=\"relu\"))\n",
    "    model.add(Dense(1))\n",
    "\n",
    "    model.compile(loss=\"mean_squared_error\", optimizer=\"adam\")\n",
    "\n",
    "    return model\n"
   ]
  },
  {
   "cell_type": "code",
   "execution_count": 6,
   "metadata": {},
   "outputs": [],
   "source": [
    "X = df[predictors].values\n",
    "y = df[target].values\n"
   ]
  },
  {
   "cell_type": "markdown",
   "metadata": {},
   "source": [
    "Repeat Part A but use a normalized version of the data. Recall that one way to normalize the data is by subtracting the mean from the individual predictors and dividing by the standard deviation."
   ]
  },
  {
   "cell_type": "code",
   "execution_count": 7,
   "metadata": {},
   "outputs": [],
   "source": [
    "X = scale(X)"
   ]
  },
  {
   "cell_type": "markdown",
   "metadata": {},
   "source": [
    "Randomly split the data into a training and test sets by holding 30% of the data for testing. You can use the train_test_splithelper function from Scikit-learn."
   ]
  },
  {
   "cell_type": "code",
   "execution_count": 8,
   "metadata": {},
   "outputs": [],
   "source": [
    "X_train, X_test, y_train, y_test = train_test_split(X, y, test_size=0.3, random_state=1)\n"
   ]
  },
  {
   "cell_type": "markdown",
   "metadata": {},
   "source": [
    "Train the model on the training data using 100 epochs."
   ]
  },
  {
   "cell_type": "code",
   "execution_count": 9,
   "metadata": {},
   "outputs": [
    {
     "name": "stdout",
     "output_type": "stream",
     "text": [
      "Epoch 1/100\n",
      "23/23 [==============================] - 1s 1ms/step - loss: 1562.2112\n",
      "Epoch 2/100\n",
      "23/23 [==============================] - 0s 2ms/step - loss: 1547.0842\n",
      "Epoch 3/100\n",
      "23/23 [==============================] - 0s 1ms/step - loss: 1532.0950\n",
      "Epoch 4/100\n",
      "23/23 [==============================] - 0s 1ms/step - loss: 1516.4502\n",
      "Epoch 5/100\n",
      "23/23 [==============================] - 0s 2ms/step - loss: 1500.8358\n",
      "Epoch 6/100\n",
      "23/23 [==============================] - 0s 1ms/step - loss: 1484.3474\n",
      "Epoch 7/100\n",
      "23/23 [==============================] - 0s 2ms/step - loss: 1466.9211\n",
      "Epoch 8/100\n",
      "23/23 [==============================] - 0s 2ms/step - loss: 1448.1957\n",
      "Epoch 9/100\n",
      "23/23 [==============================] - 0s 1ms/step - loss: 1428.3358\n",
      "Epoch 10/100\n",
      "23/23 [==============================] - 0s 1ms/step - loss: 1407.4921\n",
      "Epoch 11/100\n",
      "23/23 [==============================] - 0s 2ms/step - loss: 1385.2421\n",
      "Epoch 12/100\n",
      "23/23 [==============================] - 0s 2ms/step - loss: 1361.7083\n",
      "Epoch 13/100\n",
      "23/23 [==============================] - 0s 2ms/step - loss: 1336.8477\n",
      "Epoch 14/100\n",
      "23/23 [==============================] - 0s 1ms/step - loss: 1311.0231\n",
      "Epoch 15/100\n",
      "23/23 [==============================] - 0s 1ms/step - loss: 1283.8058\n",
      "Epoch 16/100\n",
      "23/23 [==============================] - 0s 1ms/step - loss: 1255.4263\n",
      "Epoch 17/100\n",
      "23/23 [==============================] - 0s 949us/step - loss: 1226.0970\n",
      "Epoch 18/100\n",
      "23/23 [==============================] - 0s 1ms/step - loss: 1195.4493\n",
      "Epoch 19/100\n",
      "23/23 [==============================] - 0s 1ms/step - loss: 1164.2986\n",
      "Epoch 20/100\n",
      "23/23 [==============================] - 0s 1ms/step - loss: 1132.3831\n",
      "Epoch 21/100\n",
      "23/23 [==============================] - 0s 2ms/step - loss: 1099.4380\n",
      "Epoch 22/100\n",
      "23/23 [==============================] - 0s 1ms/step - loss: 1065.9404\n",
      "Epoch 23/100\n",
      "23/23 [==============================] - 0s 1ms/step - loss: 1032.3063\n",
      "Epoch 24/100\n",
      "23/23 [==============================] - 0s 2ms/step - loss: 998.1110\n",
      "Epoch 25/100\n",
      "23/23 [==============================] - 0s 1ms/step - loss: 964.0299\n",
      "Epoch 26/100\n",
      "23/23 [==============================] - 0s 1ms/step - loss: 929.6828\n",
      "Epoch 27/100\n",
      "23/23 [==============================] - 0s 1ms/step - loss: 895.3055\n",
      "Epoch 28/100\n",
      "23/23 [==============================] - 0s 1ms/step - loss: 861.6393\n",
      "Epoch 29/100\n",
      "23/23 [==============================] - 0s 1ms/step - loss: 827.6309\n",
      "Epoch 30/100\n",
      "23/23 [==============================] - 0s 1ms/step - loss: 794.0295\n",
      "Epoch 31/100\n",
      "23/23 [==============================] - 0s 1ms/step - loss: 761.5786\n",
      "Epoch 32/100\n",
      "23/23 [==============================] - 0s 2ms/step - loss: 729.3846\n",
      "Epoch 33/100\n",
      "23/23 [==============================] - 0s 1ms/step - loss: 698.1990\n",
      "Epoch 34/100\n",
      "23/23 [==============================] - 0s 1ms/step - loss: 668.1131\n",
      "Epoch 35/100\n",
      "23/23 [==============================] - 0s 1ms/step - loss: 638.7173\n",
      "Epoch 36/100\n",
      "23/23 [==============================] - 0s 1ms/step - loss: 610.7427\n",
      "Epoch 37/100\n",
      "23/23 [==============================] - 0s 1ms/step - loss: 583.3402\n",
      "Epoch 38/100\n",
      "23/23 [==============================] - 0s 1ms/step - loss: 557.2902\n",
      "Epoch 39/100\n",
      "23/23 [==============================] - 0s 1ms/step - loss: 532.8629\n",
      "Epoch 40/100\n",
      "23/23 [==============================] - 0s 985us/step - loss: 509.1631\n",
      "Epoch 41/100\n",
      "23/23 [==============================] - 0s 1ms/step - loss: 486.8410\n",
      "Epoch 42/100\n",
      "23/23 [==============================] - 0s 1ms/step - loss: 465.8306\n",
      "Epoch 43/100\n",
      "23/23 [==============================] - 0s 1ms/step - loss: 446.0480\n",
      "Epoch 44/100\n",
      "23/23 [==============================] - 0s 1ms/step - loss: 427.0103\n",
      "Epoch 45/100\n",
      "23/23 [==============================] - 0s 1ms/step - loss: 409.7665\n",
      "Epoch 46/100\n",
      "23/23 [==============================] - 0s 1ms/step - loss: 393.2881\n",
      "Epoch 47/100\n",
      "23/23 [==============================] - 0s 1ms/step - loss: 377.8702\n",
      "Epoch 48/100\n",
      "23/23 [==============================] - 0s 1ms/step - loss: 363.4825\n",
      "Epoch 49/100\n",
      "23/23 [==============================] - 0s 738us/step - loss: 350.2280\n",
      "Epoch 50/100\n",
      "23/23 [==============================] - 0s 710us/step - loss: 337.6446\n",
      "Epoch 51/100\n",
      "23/23 [==============================] - 0s 1ms/step - loss: 326.0712\n",
      "Epoch 52/100\n",
      "23/23 [==============================] - 0s 1ms/step - loss: 315.1485\n",
      "Epoch 53/100\n",
      "23/23 [==============================] - 0s 1ms/step - loss: 305.3534\n",
      "Epoch 54/100\n",
      "23/23 [==============================] - 0s 1ms/step - loss: 296.0435\n",
      "Epoch 55/100\n",
      "23/23 [==============================] - 0s 848us/step - loss: 287.5940\n",
      "Epoch 56/100\n",
      "23/23 [==============================] - 0s 1ms/step - loss: 279.8372\n",
      "Epoch 57/100\n",
      "23/23 [==============================] - 0s 710us/step - loss: 272.6248\n",
      "Epoch 58/100\n",
      "23/23 [==============================] - 0s 1ms/step - loss: 266.0420\n",
      "Epoch 59/100\n",
      "23/23 [==============================] - 0s 1ms/step - loss: 259.8837\n",
      "Epoch 60/100\n",
      "23/23 [==============================] - 0s 1ms/step - loss: 254.3572\n",
      "Epoch 61/100\n",
      "23/23 [==============================] - 0s 1ms/step - loss: 249.1168\n",
      "Epoch 62/100\n",
      "23/23 [==============================] - 0s 1ms/step - loss: 244.4506\n",
      "Epoch 63/100\n",
      "23/23 [==============================] - 0s 1ms/step - loss: 240.2149\n",
      "Epoch 64/100\n",
      "23/23 [==============================] - 0s 2ms/step - loss: 236.2483\n",
      "Epoch 65/100\n",
      "23/23 [==============================] - 0s 1ms/step - loss: 232.6983\n",
      "Epoch 66/100\n",
      "23/23 [==============================] - 0s 1ms/step - loss: 229.3653\n",
      "Epoch 67/100\n",
      "23/23 [==============================] - 0s 1ms/step - loss: 226.2020\n",
      "Epoch 68/100\n",
      "23/23 [==============================] - 0s 1ms/step - loss: 223.4975\n",
      "Epoch 69/100\n",
      "23/23 [==============================] - 0s 2ms/step - loss: 220.7941\n",
      "Epoch 70/100\n",
      "23/23 [==============================] - 0s 1ms/step - loss: 218.3737\n",
      "Epoch 71/100\n",
      "23/23 [==============================] - 0s 1ms/step - loss: 216.0197\n",
      "Epoch 72/100\n",
      "23/23 [==============================] - 0s 1ms/step - loss: 213.9354\n",
      "Epoch 73/100\n",
      "23/23 [==============================] - 0s 1ms/step - loss: 211.9071\n",
      "Epoch 74/100\n",
      "23/23 [==============================] - 0s 1ms/step - loss: 210.0256\n",
      "Epoch 75/100\n",
      "23/23 [==============================] - 0s 1ms/step - loss: 208.2606\n",
      "Epoch 76/100\n",
      "23/23 [==============================] - 0s 1ms/step - loss: 206.6592\n",
      "Epoch 77/100\n",
      "23/23 [==============================] - 0s 1ms/step - loss: 205.0664\n",
      "Epoch 78/100\n",
      "23/23 [==============================] - 0s 1ms/step - loss: 203.6908\n",
      "Epoch 79/100\n",
      "23/23 [==============================] - 0s 1ms/step - loss: 202.3327\n",
      "Epoch 80/100\n",
      "23/23 [==============================] - 0s 2ms/step - loss: 201.0307\n",
      "Epoch 81/100\n",
      "23/23 [==============================] - 0s 1ms/step - loss: 199.8295\n",
      "Epoch 82/100\n",
      "23/23 [==============================] - 0s 1ms/step - loss: 198.8271\n",
      "Epoch 83/100\n",
      "23/23 [==============================] - 0s 1ms/step - loss: 197.7169\n",
      "Epoch 84/100\n",
      "23/23 [==============================] - 0s 2ms/step - loss: 196.6408\n",
      "Epoch 85/100\n",
      "23/23 [==============================] - 0s 1ms/step - loss: 195.7231\n",
      "Epoch 86/100\n",
      "23/23 [==============================] - 0s 1ms/step - loss: 194.7760\n",
      "Epoch 87/100\n",
      "23/23 [==============================] - 0s 1ms/step - loss: 193.8945\n",
      "Epoch 88/100\n",
      "23/23 [==============================] - 0s 1ms/step - loss: 193.1840\n",
      "Epoch 89/100\n",
      "23/23 [==============================] - 0s 1ms/step - loss: 192.3349\n",
      "Epoch 90/100\n",
      "23/23 [==============================] - 0s 1ms/step - loss: 191.5705\n",
      "Epoch 91/100\n",
      "23/23 [==============================] - 0s 1ms/step - loss: 190.8237\n",
      "Epoch 92/100\n",
      "23/23 [==============================] - 0s 1ms/step - loss: 190.1141\n",
      "Epoch 93/100\n",
      "23/23 [==============================] - 0s 2ms/step - loss: 189.4247\n",
      "Epoch 94/100\n",
      "23/23 [==============================] - 0s 1ms/step - loss: 188.7289\n",
      "Epoch 95/100\n",
      "23/23 [==============================] - 0s 2ms/step - loss: 188.0705\n",
      "Epoch 96/100\n",
      "23/23 [==============================] - 0s 1ms/step - loss: 187.4533\n",
      "Epoch 97/100\n",
      "23/23 [==============================] - 0s 1ms/step - loss: 186.8351\n",
      "Epoch 98/100\n",
      "23/23 [==============================] - 0s 1ms/step - loss: 186.3294\n",
      "Epoch 99/100\n",
      "23/23 [==============================] - 0s 1ms/step - loss: 185.6270\n",
      "Epoch 100/100\n",
      "23/23 [==============================] - 0s 2ms/step - loss: 185.0444\n"
     ]
    },
    {
     "data": {
      "text/plain": [
       "<keras.callbacks.History at 0x1dac9d55400>"
      ]
     },
     "execution_count": 9,
     "metadata": {},
     "output_type": "execute_result"
    }
   ],
   "source": [
    "model = get_model(input_shape=X.shape[1])\n",
    "model.fit(X_train, y_train, epochs=100)\n"
   ]
  },
  {
   "cell_type": "markdown",
   "metadata": {},
   "source": [
    "Evaluate the model on the test data and compute the mean squared error between the predicted concrete strength and the actual concrete strength. "
   ]
  },
  {
   "cell_type": "code",
   "execution_count": 10,
   "metadata": {},
   "outputs": [
    {
     "data": {
      "text/plain": [
       "204.91563415527344"
      ]
     },
     "execution_count": 10,
     "metadata": {},
     "output_type": "execute_result"
    }
   ],
   "source": [
    "model.evaluate(X_test, y_test, verbose=0)\n"
   ]
  },
  {
   "cell_type": "code",
   "execution_count": 11,
   "metadata": {},
   "outputs": [
    {
     "name": "stdout",
     "output_type": "stream",
     "text": [
      "Mean squared error on test data: 204.92\n"
     ]
    }
   ],
   "source": [
    "y_predicted = model.predict(X_test)\n",
    "print(\n",
    "    \"Mean squared error on test data:\",\n",
    "    np.round(mean_squared_error(y_test, y_predicted), 2),\n",
    ")\n"
   ]
  },
  {
   "cell_type": "markdown",
   "metadata": {},
   "source": [
    "Repeat steps 1 - 3, 50 times, i.e., create a list of 50 mean squared errors."
   ]
  },
  {
   "cell_type": "code",
   "execution_count": 12,
   "metadata": {},
   "outputs": [],
   "source": [
    "mean_squared_errors = np.zeros(50)\n",
    "for i in range(50):\n",
    "    X_train, X_test, y_train, y_test = train_test_split(\n",
    "        X, y, test_size=0.3, random_state=i\n",
    "    )\n",
    "    model = get_model(input_shape=X.shape[1])\n",
    "    model.fit(X_train, y_train, epochs=100, verbose=0)\n",
    "    mean_squared_errors[i] = model.evaluate(X_test, y_test, verbose=0)\n"
   ]
  },
  {
   "cell_type": "markdown",
   "metadata": {},
   "source": [
    "Report the mean and the standard deviation of the mean squared errors."
   ]
  },
  {
   "cell_type": "code",
   "execution_count": 13,
   "metadata": {},
   "outputs": [
    {
     "name": "stdout",
     "output_type": "stream",
     "text": [
      "Mean of mean squad errors: 195.47596923828124\n",
      "STD of mean squad errors: 18.741277614207153\n"
     ]
    }
   ],
   "source": [
    "print(\"Mean of mean squad errors:\", mean_squared_errors.mean())\n",
    "print(\"STD of mean squad errors:\", mean_squared_errors.std())\n"
   ]
  },
  {
   "cell_type": "markdown",
   "metadata": {},
   "source": [
    "How does the mean of the mean squared errors compare to that from Step B?\n",
    "> The mean of the mean squared errors received on Step C less than mean of the mean squared errors from Step B"
   ]
  }
 ],
 "metadata": {
  "interpreter": {
   "hash": "6a4c4756cb815d6b3a44d92f766aca2a2139b00c75d4e301b0a6523a1f8ef7c8"
  },
  "kernelspec": {
   "display_name": "Python 3.9.7 64-bit",
   "name": "python3"
  },
  "language_info": {
   "codemirror_mode": {
    "name": "ipython",
    "version": 3
   },
   "file_extension": ".py",
   "mimetype": "text/x-python",
   "name": "python",
   "nbconvert_exporter": "python",
   "pygments_lexer": "ipython3",
   "version": "3.9.7"
  },
  "orig_nbformat": 4
 },
 "nbformat": 4,
 "nbformat_minor": 2
}
