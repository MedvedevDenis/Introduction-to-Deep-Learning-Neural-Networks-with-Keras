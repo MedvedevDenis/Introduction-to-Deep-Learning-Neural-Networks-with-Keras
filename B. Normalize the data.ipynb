{
 "cells": [
  {
   "cell_type": "markdown",
   "metadata": {},
   "source": [
    "# B. Normalize the data"
   ]
  },
  {
   "cell_type": "code",
   "execution_count": 1,
   "metadata": {},
   "outputs": [],
   "source": [
    "import pandas as pd\n",
    "from tensorflow.keras.layers import Dense\n",
    "from tensorflow.keras.models import Sequential\n",
    "from sklearn.model_selection import train_test_split\n",
    "from sklearn.metrics import mean_squared_error\n",
    "import numpy as np\n",
    "from sklearn.preprocessing import scale"
   ]
  },
  {
   "cell_type": "code",
   "execution_count": 2,
   "metadata": {},
   "outputs": [],
   "source": [
    "df = pd.read_csv(\"concrete_data.csv\")\n"
   ]
  },
  {
   "cell_type": "code",
   "execution_count": 3,
   "metadata": {},
   "outputs": [
    {
     "data": {
      "text/html": [
       "<div>\n",
       "<style scoped>\n",
       "    .dataframe tbody tr th:only-of-type {\n",
       "        vertical-align: middle;\n",
       "    }\n",
       "\n",
       "    .dataframe tbody tr th {\n",
       "        vertical-align: top;\n",
       "    }\n",
       "\n",
       "    .dataframe thead th {\n",
       "        text-align: right;\n",
       "    }\n",
       "</style>\n",
       "<table border=\"1\" class=\"dataframe\">\n",
       "  <thead>\n",
       "    <tr style=\"text-align: right;\">\n",
       "      <th></th>\n",
       "      <th>Cement</th>\n",
       "      <th>Blast Furnace Slag</th>\n",
       "      <th>Fly Ash</th>\n",
       "      <th>Water</th>\n",
       "      <th>Superplasticizer</th>\n",
       "      <th>Coarse Aggregate</th>\n",
       "      <th>Fine Aggregate</th>\n",
       "      <th>Age</th>\n",
       "      <th>Strength</th>\n",
       "    </tr>\n",
       "  </thead>\n",
       "  <tbody>\n",
       "    <tr>\n",
       "      <th>0</th>\n",
       "      <td>540.0</td>\n",
       "      <td>0.0</td>\n",
       "      <td>0.0</td>\n",
       "      <td>162.0</td>\n",
       "      <td>2.5</td>\n",
       "      <td>1040.0</td>\n",
       "      <td>676.0</td>\n",
       "      <td>28</td>\n",
       "      <td>79.99</td>\n",
       "    </tr>\n",
       "    <tr>\n",
       "      <th>1</th>\n",
       "      <td>540.0</td>\n",
       "      <td>0.0</td>\n",
       "      <td>0.0</td>\n",
       "      <td>162.0</td>\n",
       "      <td>2.5</td>\n",
       "      <td>1055.0</td>\n",
       "      <td>676.0</td>\n",
       "      <td>28</td>\n",
       "      <td>61.89</td>\n",
       "    </tr>\n",
       "    <tr>\n",
       "      <th>2</th>\n",
       "      <td>332.5</td>\n",
       "      <td>142.5</td>\n",
       "      <td>0.0</td>\n",
       "      <td>228.0</td>\n",
       "      <td>0.0</td>\n",
       "      <td>932.0</td>\n",
       "      <td>594.0</td>\n",
       "      <td>270</td>\n",
       "      <td>40.27</td>\n",
       "    </tr>\n",
       "    <tr>\n",
       "      <th>3</th>\n",
       "      <td>332.5</td>\n",
       "      <td>142.5</td>\n",
       "      <td>0.0</td>\n",
       "      <td>228.0</td>\n",
       "      <td>0.0</td>\n",
       "      <td>932.0</td>\n",
       "      <td>594.0</td>\n",
       "      <td>365</td>\n",
       "      <td>41.05</td>\n",
       "    </tr>\n",
       "    <tr>\n",
       "      <th>4</th>\n",
       "      <td>198.6</td>\n",
       "      <td>132.4</td>\n",
       "      <td>0.0</td>\n",
       "      <td>192.0</td>\n",
       "      <td>0.0</td>\n",
       "      <td>978.4</td>\n",
       "      <td>825.5</td>\n",
       "      <td>360</td>\n",
       "      <td>44.30</td>\n",
       "    </tr>\n",
       "  </tbody>\n",
       "</table>\n",
       "</div>"
      ],
      "text/plain": [
       "   Cement  Blast Furnace Slag  Fly Ash  Water  Superplasticizer  \\\n",
       "0   540.0                 0.0      0.0  162.0               2.5   \n",
       "1   540.0                 0.0      0.0  162.0               2.5   \n",
       "2   332.5               142.5      0.0  228.0               0.0   \n",
       "3   332.5               142.5      0.0  228.0               0.0   \n",
       "4   198.6               132.4      0.0  192.0               0.0   \n",
       "\n",
       "   Coarse Aggregate  Fine Aggregate  Age  Strength  \n",
       "0            1040.0           676.0   28     79.99  \n",
       "1            1055.0           676.0   28     61.89  \n",
       "2             932.0           594.0  270     40.27  \n",
       "3             932.0           594.0  365     41.05  \n",
       "4             978.4           825.5  360     44.30  "
      ]
     },
     "execution_count": 3,
     "metadata": {},
     "output_type": "execute_result"
    }
   ],
   "source": [
    "df.head()\n"
   ]
  },
  {
   "cell_type": "code",
   "execution_count": 4,
   "metadata": {},
   "outputs": [],
   "source": [
    "predictors = [\n",
    "    \"Cement\",\n",
    "    \"Blast Furnace Slag\",\n",
    "    \"Fly Ash\",\n",
    "    \"Water\",\n",
    "    \"Superplasticizer\",\n",
    "    \"Coarse Aggregate\",\n",
    "    \"Fine Aggregate\",\n",
    "]\n",
    "target = \"Strength\"\n"
   ]
  },
  {
   "cell_type": "markdown",
   "metadata": {},
   "source": [
    "Use the Keras library to build a neural network with the following:\n",
    "\n",
    "- One hidden layer of 10 nodes, and a ReLU activation function\n",
    "\n",
    "- Use the adam optimizer and the mean squared error  as the loss function."
   ]
  },
  {
   "cell_type": "code",
   "execution_count": 5,
   "metadata": {},
   "outputs": [],
   "source": [
    "def get_model(input_shape: int) -> Sequential:\n",
    "    model = Sequential()\n",
    "    model.add(Dense(units=10, input_shape=(input_shape,), activation=\"relu\"))\n",
    "    model.add(Dense(1))\n",
    "\n",
    "    model.compile(loss=\"mean_squared_error\", optimizer=\"adam\")\n",
    "\n",
    "    return model\n"
   ]
  },
  {
   "cell_type": "code",
   "execution_count": 6,
   "metadata": {},
   "outputs": [],
   "source": [
    "X = df[predictors].values\n",
    "y = df[target].values\n"
   ]
  },
  {
   "cell_type": "markdown",
   "metadata": {},
   "source": [
    "Repeat Part A but use a normalized version of the data. Recall that one way to normalize the data is by subtracting the mean from the individual predictors and dividing by the standard deviation."
   ]
  },
  {
   "cell_type": "code",
   "execution_count": 7,
   "metadata": {},
   "outputs": [],
   "source": [
    "X = scale(X)"
   ]
  },
  {
   "cell_type": "markdown",
   "metadata": {},
   "source": [
    "Randomly split the data into a training and test sets by holding 30% of the data for testing. You can use the train_test_splithelper function from Scikit-learn."
   ]
  },
  {
   "cell_type": "code",
   "execution_count": 8,
   "metadata": {},
   "outputs": [],
   "source": [
    "X_train, X_test, y_train, y_test = train_test_split(X, y, test_size=0.3, random_state=1)\n"
   ]
  },
  {
   "cell_type": "markdown",
   "metadata": {},
   "source": [
    "Train the model on the training data using 50 epochs."
   ]
  },
  {
   "cell_type": "code",
   "execution_count": 9,
   "metadata": {},
   "outputs": [
    {
     "name": "stdout",
     "output_type": "stream",
     "text": [
      "Epoch 1/50\n",
      "23/23 [==============================] - 3s 2ms/step - loss: 1550.0054\n",
      "Epoch 2/50\n",
      "23/23 [==============================] - 0s 2ms/step - loss: 1535.3829\n",
      "Epoch 3/50\n",
      "23/23 [==============================] - 0s 846us/step - loss: 1520.5168\n",
      "Epoch 4/50\n",
      "23/23 [==============================] - 0s 2ms/step - loss: 1505.2587\n",
      "Epoch 5/50\n",
      "23/23 [==============================] - 0s 2ms/step - loss: 1489.3737\n",
      "Epoch 6/50\n",
      "23/23 [==============================] - 0s 2ms/step - loss: 1472.4307\n",
      "Epoch 7/50\n",
      "23/23 [==============================] - 0s 1ms/step - loss: 1454.9589\n",
      "Epoch 8/50\n",
      "23/23 [==============================] - 0s 2ms/step - loss: 1436.5310\n",
      "Epoch 9/50\n",
      "23/23 [==============================] - 0s 2ms/step - loss: 1417.1560\n",
      "Epoch 10/50\n",
      "23/23 [==============================] - 0s 2ms/step - loss: 1396.4624\n",
      "Epoch 11/50\n",
      "23/23 [==============================] - 0s 2ms/step - loss: 1374.6333\n",
      "Epoch 12/50\n",
      "23/23 [==============================] - 0s 2ms/step - loss: 1351.6858\n",
      "Epoch 13/50\n",
      "23/23 [==============================] - 0s 2ms/step - loss: 1327.2654\n",
      "Epoch 14/50\n",
      "23/23 [==============================] - 0s 2ms/step - loss: 1302.1007\n",
      "Epoch 15/50\n",
      "23/23 [==============================] - 2s 93ms/step - loss: 1274.8966\n",
      "Epoch 16/50\n",
      "23/23 [==============================] - 0s 2ms/step - loss: 1247.3519\n",
      "Epoch 17/50\n",
      "23/23 [==============================] - 0s 2ms/step - loss: 1218.0315\n",
      "Epoch 18/50\n",
      "23/23 [==============================] - 0s 2ms/step - loss: 1188.2031\n",
      "Epoch 19/50\n",
      "23/23 [==============================] - 0s 2ms/step - loss: 1157.5427\n",
      "Epoch 20/50\n",
      "23/23 [==============================] - 0s 2ms/step - loss: 1126.0884\n",
      "Epoch 21/50\n",
      "23/23 [==============================] - 0s 2ms/step - loss: 1093.6023\n",
      "Epoch 22/50\n",
      "23/23 [==============================] - 0s 2ms/step - loss: 1061.8149\n",
      "Epoch 23/50\n",
      "23/23 [==============================] - 0s 2ms/step - loss: 1028.6693\n",
      "Epoch 24/50\n",
      "23/23 [==============================] - 0s 2ms/step - loss: 995.6115\n",
      "Epoch 25/50\n",
      "23/23 [==============================] - 0s 2ms/step - loss: 962.3752\n",
      "Epoch 26/50\n",
      "23/23 [==============================] - 0s 2ms/step - loss: 929.1947\n",
      "Epoch 27/50\n",
      "23/23 [==============================] - 0s 2ms/step - loss: 895.5714\n",
      "Epoch 28/50\n",
      "23/23 [==============================] - 0s 2ms/step - loss: 862.6227\n",
      "Epoch 29/50\n",
      "23/23 [==============================] - 0s 2ms/step - loss: 828.8434\n",
      "Epoch 30/50\n",
      "23/23 [==============================] - 0s 2ms/step - loss: 796.2244\n",
      "Epoch 31/50\n",
      "23/23 [==============================] - 0s 2ms/step - loss: 763.6667\n",
      "Epoch 32/50\n",
      "23/23 [==============================] - 0s 2ms/step - loss: 731.5165\n",
      "Epoch 33/50\n",
      "23/23 [==============================] - 0s 2ms/step - loss: 699.8058\n",
      "Epoch 34/50\n",
      "23/23 [==============================] - 0s 2ms/step - loss: 669.0287\n",
      "Epoch 35/50\n",
      "23/23 [==============================] - 0s 2ms/step - loss: 638.2024\n",
      "Epoch 36/50\n",
      "23/23 [==============================] - 0s 2ms/step - loss: 608.4080\n",
      "Epoch 37/50\n",
      "23/23 [==============================] - 2s 90ms/step - loss: 579.0244\n",
      "Epoch 38/50\n",
      "23/23 [==============================] - 0s 2ms/step - loss: 550.6650\n",
      "Epoch 39/50\n",
      "23/23 [==============================] - 0s 2ms/step - loss: 522.5880\n",
      "Epoch 40/50\n",
      "23/23 [==============================] - 0s 2ms/step - loss: 496.1910\n",
      "Epoch 41/50\n",
      "23/23 [==============================] - 0s 2ms/step - loss: 470.6255\n",
      "Epoch 42/50\n",
      "23/23 [==============================] - 0s 2ms/step - loss: 446.3173\n",
      "Epoch 43/50\n",
      "23/23 [==============================] - 0s 2ms/step - loss: 422.9259\n",
      "Epoch 44/50\n",
      "23/23 [==============================] - 0s 2ms/step - loss: 401.1279\n",
      "Epoch 45/50\n",
      "23/23 [==============================] - 0s 2ms/step - loss: 380.2974\n",
      "Epoch 46/50\n",
      "23/23 [==============================] - 0s 2ms/step - loss: 361.2282\n",
      "Epoch 47/50\n",
      "23/23 [==============================] - 0s 2ms/step - loss: 343.2090\n",
      "Epoch 48/50\n",
      "23/23 [==============================] - 0s 2ms/step - loss: 326.6738\n",
      "Epoch 49/50\n",
      "23/23 [==============================] - 0s 2ms/step - loss: 311.2766\n",
      "Epoch 50/50\n",
      "23/23 [==============================] - 0s 2ms/step - loss: 297.5670\n"
     ]
    },
    {
     "data": {
      "text/plain": [
       "<keras.callbacks.History at 0x14aa9444400>"
      ]
     },
     "execution_count": 9,
     "metadata": {},
     "output_type": "execute_result"
    }
   ],
   "source": [
    "model = get_model(input_shape=X.shape[1])\n",
    "model.fit(X_train, y_train, epochs=50)\n"
   ]
  },
  {
   "cell_type": "markdown",
   "metadata": {},
   "source": [
    "Evaluate the model on the test data and compute the mean squared error between the predicted concrete strength and the actual concrete strength. "
   ]
  },
  {
   "cell_type": "code",
   "execution_count": 10,
   "metadata": {},
   "outputs": [
    {
     "data": {
      "text/plain": [
       "316.56365966796875"
      ]
     },
     "execution_count": 10,
     "metadata": {},
     "output_type": "execute_result"
    }
   ],
   "source": [
    "model.evaluate(X_test, y_test, verbose=0)\n"
   ]
  },
  {
   "cell_type": "code",
   "execution_count": 11,
   "metadata": {},
   "outputs": [
    {
     "name": "stdout",
     "output_type": "stream",
     "text": [
      "Mean squared error on test data: 316.56\n"
     ]
    }
   ],
   "source": [
    "y_predicted = model.predict(X_test)\n",
    "print(\n",
    "    \"Mean squared error on test data:\",\n",
    "    np.round(mean_squared_error(y_test, y_predicted), 2),\n",
    ")\n"
   ]
  },
  {
   "cell_type": "markdown",
   "metadata": {},
   "source": [
    "Repeat steps 1 - 3, 50 times, i.e., create a list of 50 mean squared errors."
   ]
  },
  {
   "cell_type": "code",
   "execution_count": 12,
   "metadata": {},
   "outputs": [],
   "source": [
    "mean_squared_errors = np.zeros(50)\n",
    "for i in range(50):\n",
    "    X_train, X_test, y_train, y_test = train_test_split(\n",
    "        X, y, test_size=0.3, random_state=i\n",
    "    )\n",
    "    model = get_model(input_shape=X.shape[1])\n",
    "    model.fit(X_train, y_train, epochs=50, verbose=0)\n",
    "    mean_squared_errors[i] = model.evaluate(X_test, y_test, verbose=0)\n"
   ]
  },
  {
   "cell_type": "markdown",
   "metadata": {},
   "source": [
    "Report the mean and the standard deviation of the mean squared errors."
   ]
  },
  {
   "cell_type": "code",
   "execution_count": 13,
   "metadata": {},
   "outputs": [
    {
     "name": "stdout",
     "output_type": "stream",
     "text": [
      "Mean of mean squad errors: 377.0195700073242\n",
      "STD of mean squad errors: 87.86163970203094\n"
     ]
    }
   ],
   "source": [
    "print(\"Mean of mean squad errors:\", mean_squared_errors.mean())\n",
    "print(\"STD of mean squad errors:\", mean_squared_errors.std())\n"
   ]
  },
  {
   "cell_type": "markdown",
   "metadata": {},
   "source": [
    "How does the mean of the mean squared errors compare to that from Step A?\n",
    "> The mean of the mean squared errors received on normalized data less than mean of the mean squared errors from Step A"
   ]
  }
 ],
 "metadata": {
  "interpreter": {
   "hash": "6a4c4756cb815d6b3a44d92f766aca2a2139b00c75d4e301b0a6523a1f8ef7c8"
  },
  "kernelspec": {
   "display_name": "Python 3.9.7 64-bit",
   "name": "python3"
  },
  "language_info": {
   "codemirror_mode": {
    "name": "ipython",
    "version": 3
   },
   "file_extension": ".py",
   "mimetype": "text/x-python",
   "name": "python",
   "nbconvert_exporter": "python",
   "pygments_lexer": "ipython3",
   "version": "3.9.7"
  },
  "orig_nbformat": 4
 },
 "nbformat": 4,
 "nbformat_minor": 2
}
