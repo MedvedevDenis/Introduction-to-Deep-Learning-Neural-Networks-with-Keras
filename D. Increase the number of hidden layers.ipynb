{
 "cells": [
  {
   "cell_type": "markdown",
   "metadata": {},
   "source": [
    "# D. Increase the number of hidden layers"
   ]
  },
  {
   "cell_type": "code",
   "execution_count": 1,
   "metadata": {},
   "outputs": [],
   "source": [
    "import pandas as pd\n",
    "from tensorflow.keras.layers import Dense\n",
    "from tensorflow.keras.models import Sequential\n",
    "from sklearn.model_selection import train_test_split\n",
    "from sklearn.metrics import mean_squared_error\n",
    "import numpy as np\n",
    "from sklearn.preprocessing import scale"
   ]
  },
  {
   "cell_type": "code",
   "execution_count": 2,
   "metadata": {},
   "outputs": [],
   "source": [
    "df = pd.read_csv(\"concrete_data.csv\")\n"
   ]
  },
  {
   "cell_type": "code",
   "execution_count": 3,
   "metadata": {},
   "outputs": [
    {
     "data": {
      "text/html": [
       "<div>\n",
       "<style scoped>\n",
       "    .dataframe tbody tr th:only-of-type {\n",
       "        vertical-align: middle;\n",
       "    }\n",
       "\n",
       "    .dataframe tbody tr th {\n",
       "        vertical-align: top;\n",
       "    }\n",
       "\n",
       "    .dataframe thead th {\n",
       "        text-align: right;\n",
       "    }\n",
       "</style>\n",
       "<table border=\"1\" class=\"dataframe\">\n",
       "  <thead>\n",
       "    <tr style=\"text-align: right;\">\n",
       "      <th></th>\n",
       "      <th>Cement</th>\n",
       "      <th>Blast Furnace Slag</th>\n",
       "      <th>Fly Ash</th>\n",
       "      <th>Water</th>\n",
       "      <th>Superplasticizer</th>\n",
       "      <th>Coarse Aggregate</th>\n",
       "      <th>Fine Aggregate</th>\n",
       "      <th>Age</th>\n",
       "      <th>Strength</th>\n",
       "    </tr>\n",
       "  </thead>\n",
       "  <tbody>\n",
       "    <tr>\n",
       "      <th>0</th>\n",
       "      <td>540.0</td>\n",
       "      <td>0.0</td>\n",
       "      <td>0.0</td>\n",
       "      <td>162.0</td>\n",
       "      <td>2.5</td>\n",
       "      <td>1040.0</td>\n",
       "      <td>676.0</td>\n",
       "      <td>28</td>\n",
       "      <td>79.99</td>\n",
       "    </tr>\n",
       "    <tr>\n",
       "      <th>1</th>\n",
       "      <td>540.0</td>\n",
       "      <td>0.0</td>\n",
       "      <td>0.0</td>\n",
       "      <td>162.0</td>\n",
       "      <td>2.5</td>\n",
       "      <td>1055.0</td>\n",
       "      <td>676.0</td>\n",
       "      <td>28</td>\n",
       "      <td>61.89</td>\n",
       "    </tr>\n",
       "    <tr>\n",
       "      <th>2</th>\n",
       "      <td>332.5</td>\n",
       "      <td>142.5</td>\n",
       "      <td>0.0</td>\n",
       "      <td>228.0</td>\n",
       "      <td>0.0</td>\n",
       "      <td>932.0</td>\n",
       "      <td>594.0</td>\n",
       "      <td>270</td>\n",
       "      <td>40.27</td>\n",
       "    </tr>\n",
       "    <tr>\n",
       "      <th>3</th>\n",
       "      <td>332.5</td>\n",
       "      <td>142.5</td>\n",
       "      <td>0.0</td>\n",
       "      <td>228.0</td>\n",
       "      <td>0.0</td>\n",
       "      <td>932.0</td>\n",
       "      <td>594.0</td>\n",
       "      <td>365</td>\n",
       "      <td>41.05</td>\n",
       "    </tr>\n",
       "    <tr>\n",
       "      <th>4</th>\n",
       "      <td>198.6</td>\n",
       "      <td>132.4</td>\n",
       "      <td>0.0</td>\n",
       "      <td>192.0</td>\n",
       "      <td>0.0</td>\n",
       "      <td>978.4</td>\n",
       "      <td>825.5</td>\n",
       "      <td>360</td>\n",
       "      <td>44.30</td>\n",
       "    </tr>\n",
       "  </tbody>\n",
       "</table>\n",
       "</div>"
      ],
      "text/plain": [
       "   Cement  Blast Furnace Slag  Fly Ash  Water  Superplasticizer  \\\n",
       "0   540.0                 0.0      0.0  162.0               2.5   \n",
       "1   540.0                 0.0      0.0  162.0               2.5   \n",
       "2   332.5               142.5      0.0  228.0               0.0   \n",
       "3   332.5               142.5      0.0  228.0               0.0   \n",
       "4   198.6               132.4      0.0  192.0               0.0   \n",
       "\n",
       "   Coarse Aggregate  Fine Aggregate  Age  Strength  \n",
       "0            1040.0           676.0   28     79.99  \n",
       "1            1055.0           676.0   28     61.89  \n",
       "2             932.0           594.0  270     40.27  \n",
       "3             932.0           594.0  365     41.05  \n",
       "4             978.4           825.5  360     44.30  "
      ]
     },
     "execution_count": 3,
     "metadata": {},
     "output_type": "execute_result"
    }
   ],
   "source": [
    "df.head()\n"
   ]
  },
  {
   "cell_type": "code",
   "execution_count": 4,
   "metadata": {},
   "outputs": [],
   "source": [
    "predictors = [\n",
    "    \"Cement\",\n",
    "    \"Blast Furnace Slag\",\n",
    "    \"Fly Ash\",\n",
    "    \"Water\",\n",
    "    \"Superplasticizer\",\n",
    "    \"Coarse Aggregate\",\n",
    "    \"Fine Aggregate\",\n",
    "]\n",
    "target = \"Strength\"\n"
   ]
  },
  {
   "cell_type": "markdown",
   "metadata": {},
   "source": [
    "Use the Keras library to build a neural network with the following:\n",
    "\n",
    "- Three hidden layers, each of 10 nodes and ReLU activation function.\n",
    "- Use the adam optimizer and the mean squared error  as the loss function."
   ]
  },
  {
   "cell_type": "code",
   "execution_count": 5,
   "metadata": {},
   "outputs": [],
   "source": [
    "def get_model(input_shape: int) -> Sequential:\n",
    "    model = Sequential()\n",
    "    model.add(Dense(units=10, input_shape=(input_shape,), activation=\"relu\"))\n",
    "    model.add(Dense(units=10, input_shape=(input_shape,), activation=\"relu\"))\n",
    "    model.add(Dense(units=10, input_shape=(input_shape,), activation=\"relu\"))\n",
    "    model.add(Dense(1))\n",
    "\n",
    "    model.compile(loss=\"mean_squared_error\", optimizer=\"adam\")\n",
    "\n",
    "    return model\n"
   ]
  },
  {
   "cell_type": "code",
   "execution_count": 6,
   "metadata": {},
   "outputs": [],
   "source": [
    "X = df[predictors].values\n",
    "y = df[target].values\n"
   ]
  },
  {
   "cell_type": "markdown",
   "metadata": {},
   "source": [
    "Repeat Part A but use a normalized version of the data. Recall that one way to normalize the data is by subtracting the mean from the individual predictors and dividing by the standard deviation."
   ]
  },
  {
   "cell_type": "code",
   "execution_count": 7,
   "metadata": {},
   "outputs": [],
   "source": [
    "X = scale(X)"
   ]
  },
  {
   "cell_type": "markdown",
   "metadata": {},
   "source": [
    "Randomly split the data into a training and test sets by holding 30% of the data for testing. You can use the train_test_splithelper function from Scikit-learn."
   ]
  },
  {
   "cell_type": "code",
   "execution_count": 8,
   "metadata": {},
   "outputs": [],
   "source": [
    "X_train, X_test, y_train, y_test = train_test_split(X, y, test_size=0.3, random_state=1)\n"
   ]
  },
  {
   "cell_type": "markdown",
   "metadata": {},
   "source": [
    "Train the model on the training data using 50 epochs."
   ]
  },
  {
   "cell_type": "code",
   "execution_count": 9,
   "metadata": {},
   "outputs": [
    {
     "name": "stdout",
     "output_type": "stream",
     "text": [
      "Epoch 1/50\n",
      "23/23 [==============================] - 1s 2ms/step - loss: 1543.2185\n",
      "Epoch 2/50\n",
      "23/23 [==============================] - 0s 1ms/step - loss: 1525.1577\n",
      "Epoch 3/50\n",
      "23/23 [==============================] - 0s 2ms/step - loss: 1493.9485\n",
      "Epoch 4/50\n",
      "23/23 [==============================] - 0s 2ms/step - loss: 1442.7252\n",
      "Epoch 5/50\n",
      "23/23 [==============================] - 0s 2ms/step - loss: 1368.1293\n",
      "Epoch 6/50\n",
      "23/23 [==============================] - 0s 2ms/step - loss: 1262.4122\n",
      "Epoch 7/50\n",
      "23/23 [==============================] - 0s 3ms/step - loss: 1117.0740\n",
      "Epoch 8/50\n",
      "23/23 [==============================] - 0s 1ms/step - loss: 929.5753\n",
      "Epoch 9/50\n",
      "23/23 [==============================] - 0s 2ms/step - loss: 722.2351\n",
      "Epoch 10/50\n",
      "23/23 [==============================] - 0s 2ms/step - loss: 532.9846\n",
      "Epoch 11/50\n",
      "23/23 [==============================] - 0s 1ms/step - loss: 399.9845\n",
      "Epoch 12/50\n",
      "23/23 [==============================] - 0s 1ms/step - loss: 325.8410\n",
      "Epoch 13/50\n",
      "23/23 [==============================] - 0s 1ms/step - loss: 286.0748\n",
      "Epoch 14/50\n",
      "23/23 [==============================] - 0s 1ms/step - loss: 262.1538\n",
      "Epoch 15/50\n",
      "23/23 [==============================] - 0s 2ms/step - loss: 242.6890\n",
      "Epoch 16/50\n",
      "23/23 [==============================] - 0s 2ms/step - loss: 229.6261\n",
      "Epoch 17/50\n",
      "23/23 [==============================] - 0s 2ms/step - loss: 219.6419\n",
      "Epoch 18/50\n",
      "23/23 [==============================] - 0s 1ms/step - loss: 212.4068\n",
      "Epoch 19/50\n",
      "23/23 [==============================] - 0s 1ms/step - loss: 205.9868\n",
      "Epoch 20/50\n",
      "23/23 [==============================] - 0s 2ms/step - loss: 201.7038\n",
      "Epoch 21/50\n",
      "23/23 [==============================] - 0s 1ms/step - loss: 197.3021\n",
      "Epoch 22/50\n",
      "23/23 [==============================] - 0s 2ms/step - loss: 194.2170\n",
      "Epoch 23/50\n",
      "23/23 [==============================] - 0s 1ms/step - loss: 191.9685\n",
      "Epoch 24/50\n",
      "23/23 [==============================] - 0s 2ms/step - loss: 189.5274\n",
      "Epoch 25/50\n",
      "23/23 [==============================] - 0s 1ms/step - loss: 187.2927\n",
      "Epoch 26/50\n",
      "23/23 [==============================] - 0s 1ms/step - loss: 185.6149\n",
      "Epoch 27/50\n",
      "23/23 [==============================] - 0s 2ms/step - loss: 183.7850\n",
      "Epoch 28/50\n",
      "23/23 [==============================] - 0s 2ms/step - loss: 182.5321\n",
      "Epoch 29/50\n",
      "23/23 [==============================] - 0s 2ms/step - loss: 181.1287\n",
      "Epoch 30/50\n",
      "23/23 [==============================] - 0s 2ms/step - loss: 179.7940\n",
      "Epoch 31/50\n",
      "23/23 [==============================] - 0s 1ms/step - loss: 178.5758\n",
      "Epoch 32/50\n",
      "23/23 [==============================] - 0s 1ms/step - loss: 177.1761\n",
      "Epoch 33/50\n",
      "23/23 [==============================] - 0s 3ms/step - loss: 176.1518\n",
      "Epoch 34/50\n",
      "23/23 [==============================] - 0s 1ms/step - loss: 175.0627\n",
      "Epoch 35/50\n",
      "23/23 [==============================] - 0s 1ms/step - loss: 174.1590\n",
      "Epoch 36/50\n",
      "23/23 [==============================] - 0s 1ms/step - loss: 172.9546\n",
      "Epoch 37/50\n",
      "23/23 [==============================] - 0s 2ms/step - loss: 172.4128\n",
      "Epoch 38/50\n",
      "23/23 [==============================] - 0s 1ms/step - loss: 170.9669\n",
      "Epoch 39/50\n",
      "23/23 [==============================] - 0s 2ms/step - loss: 170.5453\n",
      "Epoch 40/50\n",
      "23/23 [==============================] - 0s 1ms/step - loss: 169.7318\n",
      "Epoch 41/50\n",
      "23/23 [==============================] - 0s 1ms/step - loss: 168.2068\n",
      "Epoch 42/50\n",
      "23/23 [==============================] - 0s 2ms/step - loss: 168.1675\n",
      "Epoch 43/50\n",
      "23/23 [==============================] - 0s 1ms/step - loss: 167.0696\n",
      "Epoch 44/50\n",
      "23/23 [==============================] - 0s 1ms/step - loss: 166.3898\n",
      "Epoch 45/50\n",
      "23/23 [==============================] - 0s 2ms/step - loss: 165.4836\n",
      "Epoch 46/50\n",
      "23/23 [==============================] - 0s 1ms/step - loss: 165.0867\n",
      "Epoch 47/50\n",
      "23/23 [==============================] - 0s 1ms/step - loss: 164.9107\n",
      "Epoch 48/50\n",
      "23/23 [==============================] - 0s 1ms/step - loss: 163.9924\n",
      "Epoch 49/50\n",
      "23/23 [==============================] - 0s 2ms/step - loss: 163.1572\n",
      "Epoch 50/50\n",
      "23/23 [==============================] - 0s 1ms/step - loss: 162.6465\n"
     ]
    },
    {
     "data": {
      "text/plain": [
       "<keras.callbacks.History at 0x1f58538db80>"
      ]
     },
     "execution_count": 9,
     "metadata": {},
     "output_type": "execute_result"
    }
   ],
   "source": [
    "model = get_model(input_shape=X.shape[1])\n",
    "model.fit(X_train, y_train, epochs=50)\n"
   ]
  },
  {
   "cell_type": "markdown",
   "metadata": {},
   "source": [
    "Evaluate the model on the test data and compute the mean squared error between the predicted concrete strength and the actual concrete strength. "
   ]
  },
  {
   "cell_type": "code",
   "execution_count": 10,
   "metadata": {},
   "outputs": [
    {
     "data": {
      "text/plain": [
       "186.82632446289062"
      ]
     },
     "execution_count": 10,
     "metadata": {},
     "output_type": "execute_result"
    }
   ],
   "source": [
    "model.evaluate(X_test, y_test, verbose=0)\n"
   ]
  },
  {
   "cell_type": "code",
   "execution_count": 11,
   "metadata": {},
   "outputs": [
    {
     "name": "stdout",
     "output_type": "stream",
     "text": [
      "Mean squared error on test data: 186.83\n"
     ]
    }
   ],
   "source": [
    "y_predicted = model.predict(X_test)\n",
    "print(\n",
    "    \"Mean squared error on test data:\",\n",
    "    np.round(mean_squared_error(y_test, y_predicted), 2),\n",
    ")\n"
   ]
  },
  {
   "cell_type": "markdown",
   "metadata": {},
   "source": [
    "Repeat steps 1 - 3, 50 times, i.e., create a list of 50 mean squared errors."
   ]
  },
  {
   "cell_type": "code",
   "execution_count": 12,
   "metadata": {},
   "outputs": [],
   "source": [
    "mean_squared_errors = np.zeros(50)\n",
    "for i in range(50):\n",
    "    X_train, X_test, y_train, y_test = train_test_split(\n",
    "        X, y, test_size=0.3, random_state=i\n",
    "    )\n",
    "    model = get_model(input_shape=X.shape[1])\n",
    "    model.fit(X_train, y_train, epochs=50, verbose=0)\n",
    "    mean_squared_errors[i] = model.evaluate(X_test, y_test, verbose=0)\n"
   ]
  },
  {
   "cell_type": "markdown",
   "metadata": {},
   "source": [
    "Report the mean and the standard deviation of the mean squared errors."
   ]
  },
  {
   "cell_type": "code",
   "execution_count": 13,
   "metadata": {},
   "outputs": [
    {
     "name": "stdout",
     "output_type": "stream",
     "text": [
      "Mean of mean squad errors: 167.58372711181642\n",
      "STD of mean squad errors: 12.825918769320651\n"
     ]
    }
   ],
   "source": [
    "print(\"Mean of mean squad errors:\", mean_squared_errors.mean())\n",
    "print(\"STD of mean squad errors:\", mean_squared_errors.std())\n"
   ]
  },
  {
   "cell_type": "markdown",
   "metadata": {},
   "source": [
    "How does the mean of the mean squared errors compare to that from Step B?\n",
    "\n",
    "> The mean of the mean squared errors received on Step D less than mean of the mean squared errors from Step B"
   ]
  }
 ],
 "metadata": {
  "interpreter": {
   "hash": "6a4c4756cb815d6b3a44d92f766aca2a2139b00c75d4e301b0a6523a1f8ef7c8"
  },
  "kernelspec": {
   "display_name": "Python 3.9.7 64-bit",
   "name": "python3"
  },
  "language_info": {
   "codemirror_mode": {
    "name": "ipython",
    "version": 3
   },
   "file_extension": ".py",
   "mimetype": "text/x-python",
   "name": "python",
   "nbconvert_exporter": "python",
   "pygments_lexer": "ipython3",
   "version": "3.9.7"
  },
  "orig_nbformat": 4
 },
 "nbformat": 4,
 "nbformat_minor": 2
}
